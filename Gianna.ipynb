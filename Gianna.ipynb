{
 "cells": [
  {
   "cell_type": "markdown",
   "id": "fossil-specialist",
   "metadata": {},
   "source": [
    "<h1 style=\"color: #2e6c80; text-align: center;\"><span style=\"text-decoration: underline;\">Trabajo Final de CIS311</span></h1>\n",
    "<h2 style=\"color: #2e6c80;\">&nbsp;</h2>\n",
    "<h4 style=\"color: #2e6c80;\"><span style=\"color: #000000;\">Alumno: Brian Alexander Jaramillo Ramirez</span></h4>\n",
    "<h4 style=\"color: #2e6c80;\"><span style=\"color: #000000;\">C&oacute;digo: 20131667</span></h4>\n",
    "<h4 style=\"color: #2e6c80;\"><span style=\"color: #000000;\">Profesora: Carla Sol&iacute;s</span></h4>\n",
    "<h2 style=\"color: #2e6c80;\">1. Introducci&oacute;n</h2>\n",
    "<p style=\"text-align: justify;\">El presente trabajo se enfoca en el impacto de la pandemia del COVID-19 por todo el mundo. El brote inicial comenz&oacute; a fines del a&ntilde;o 2019 en la ciudad de Wuhan en China. Y en poco tiempo se expandi&oacute; a otros pa&iacute;ses as&iacute;aticos, hasta extenderse a Europa, &Aacute;frica y Am&eacute;rica. El alto contagio que lo caracteriza provoc&oacute; que a nivel global se tomasen medidas restrictivas para reducir el n&uacute;mero de infectados. Sin embargo, tanto los enfermos como los fallecidos producto del virus se contaron por cientos de miles, ya que las medidas no funcionaron, y reci&eacute;n con la vacunaci&oacute;n han comenzado a reducirse los casos. A continuaci&oacute;n, se realizar&aacute; un an&aacute;lisis estad&iacute;stico tanto de los infectados, muertos y vacunados entre los principales pa&iacute;ses.</p>"
   ]
  },
  {
   "cell_type": "markdown",
   "id": "surprised-combine",
   "metadata": {},
   "source": [
    "<h2 style=\"color: #2e6c80;\">2. Base de datos</h2>\n",
    "<h3 style=\"color: #2e6c80;\">2.1 Importando bibliotecas</h3>"
   ]
  },
  {
   "cell_type": "markdown",
   "id": "assured-yeast",
   "metadata": {},
   "source": [
    "Primero, se importarán las bibliotecas necesarias que se utilizarán a lo largo de la creación de la base de datos y los gráficos a implementar. Por un lado, `pandas` permite manejar bases de datos, mientras que `numpy` ayuda a realizar cálculos numéricos y de datos. Por otro lado, con `altair` se implementan diversos gráficos. Finalmente, se usará `wget` para descargar las bases de datos necesarias.  "
   ]
  },
  {
   "cell_type": "code",
   "execution_count": 5,
   "id": "missing-workplace",
   "metadata": {},
   "outputs": [],
   "source": [
    "import pandas as pd\n",
    "import numpy as np\n",
    "import altair as alt\n",
    "import wget"
   ]
  },
  {
   "cell_type": "markdown",
   "id": "economic-flour",
   "metadata": {},
   "source": [
    "<h3 style=\"color: #2e6c80;\">2.2 Descargando la base de datos</h3>"
   ]
  },
  {
   "cell_type": "markdown",
   "id": "fluid-benjamin",
   "metadata": {},
   "source": [
    "La base de datos es de una fuente confiable ya que ha sido descargada de la página web \"Coronavirus Source Data\". Estos datos se basan en los recopilados a nivel mundial por parte de la Universidad Johns Hopkins. Cabe señalar que los datos cubren el periodo de enero de 2020 hasta el 24 de junio de 2021 (esto es debido a la fecha en que se realizó este trabajo). A continuación se adjunta el link: "
   ]
  },
  {
   "cell_type": "markdown",
   "id": "prescription-ebony",
   "metadata": {},
   "source": [
    "<p><a title=\"Our World In Data\" href=\"https://ourworldindata.org/\" target=\"_blank\">https://ourworldindata.org/</a></p>"
   ]
  },
  {
   "cell_type": "markdown",
   "id": "incoming-belarus",
   "metadata": {},
   "source": [
    "Definimos la ruta de descarga en la variable \"urls\", para luego utilizar la librería `wget` para descargar la base que está en formato csv. Finalmente, se nos mostrará una barra con el 100% del proceso de descarga, y tendremos nuestra base descargada. Esta se llama 'owid-covid-data-csv'."
   ]
  },
  {
   "cell_type": "code",
   "execution_count": 2,
   "id": "burning-depth",
   "metadata": {
    "scrolled": true
   },
   "outputs": [
    {
     "name": "stdout",
     "output_type": "stream",
     "text": [
      "100% [########################################################################]           24M / 24M"
     ]
    },
    {
     "data": {
      "text/plain": [
       "['owid-covid-data.csv']"
      ]
     },
     "execution_count": 2,
     "metadata": {},
     "output_type": "execute_result"
    }
   ],
   "source": [
    "urls = ['https://raw.githubusercontent.com/owid/covid-19-data/master/public/data/owid-covid-data.csv']\n",
    "[wget.download(url) for url in urls]"
   ]
  },
  {
   "cell_type": "markdown",
   "id": "veterinary-decline",
   "metadata": {},
   "source": [
    "<h3 style=\"color: #2e6c80;\">2.3 Limpiando la base de datos</h3>"
   ]
  },
  {
   "cell_type": "markdown",
   "id": "professional-couple",
   "metadata": {},
   "source": [
    "* Primero, importaremos nuestras bases de datos y les daremos un nombre para diferenciarlas."
   ]
  },
  {
   "cell_type": "code",
   "execution_count": 92,
   "id": "advanced-conviction",
   "metadata": {},
   "outputs": [],
   "source": [
    "base_origen = pd.read_csv('owid-covid-data.csv')"
   ]
  },
  {
   "cell_type": "markdown",
   "id": "danish-throat",
   "metadata": {},
   "source": [
    "* Con el comando `shape` obtenemos el número de filas y columnas de la base de datos. Observamos que tenemos 60 columnas que corresponden a las distintas variables consideradas en la base de datos. Sin embargo, solo nos quedaremos con las variables más relevantes para el análisis estadístico. Estas serán el continente, país, fecha, casos totales de infectados, nuevos casos de infectados, total de muertes, y nuevas muertes."
   ]
  },
  {
   "cell_type": "code",
   "execution_count": 93,
   "id": "threaded-nigeria",
   "metadata": {},
   "outputs": [
    {
     "data": {
      "text/plain": [
       "(98011, 60)"
      ]
     },
     "execution_count": 93,
     "metadata": {},
     "output_type": "execute_result"
    }
   ],
   "source": [
    "base_origen.shape"
   ]
  },
  {
   "cell_type": "code",
   "execution_count": 94,
   "id": "declared-relevance",
   "metadata": {},
   "outputs": [],
   "source": [
    "base_origen = base_origen.loc[:,['continent', 'location', 'date', 'total_cases', \n",
    "                                 'new_cases', 'total_deaths', 'new_deaths']]"
   ]
  },
  {
   "cell_type": "markdown",
   "id": "extended-catch",
   "metadata": {},
   "source": [
    "* Un paso importante que se debe de realizar es comprobar que no hayan datos missing (NaN). Para ello, se emplea el comando `df.isna().sum()`."
   ]
  },
  {
   "cell_type": "code",
   "execution_count": 95,
   "id": "surprising-practitioner",
   "metadata": {},
   "outputs": [
    {
     "data": {
      "text/plain": [
       "continent        4606\n",
       "location            0\n",
       "date                0\n",
       "total_cases      3437\n",
       "new_cases        3440\n",
       "total_deaths    13520\n",
       "new_deaths      13364\n",
       "dtype: int64"
      ]
     },
     "execution_count": 95,
     "metadata": {},
     "output_type": "execute_result"
    }
   ],
   "source": [
    "base_origen.isna().sum()"
   ]
  },
  {
   "cell_type": "markdown",
   "id": "hawaiian-chosen",
   "metadata": {},
   "source": [
    "* Observamos que hay muchos datos missing en las columnas, por lo cual, los rellenaremos con 0. Más que nada, este problema ocurre porque el impacto del virus no sucedió al mismo tiempo en todos los países. Así que según las fechas, hay países en que el virus infectó mucho después respecto al inicio de la pandemia."
   ]
  },
  {
   "cell_type": "code",
   "execution_count": 96,
   "id": "confident-primary",
   "metadata": {
    "scrolled": true
   },
   "outputs": [],
   "source": [
    "#base_origen['continent'] = base_origen['total_cases'].fillna('No Registrado')\n",
    "base_origen['total_cases'] = base_origen['total_cases'].fillna(0)\n",
    "base_origen['new_cases'] = base_origen['new_cases'].fillna(0)\n",
    "base_origen['total_deaths'] = base_origen['total_deaths'].fillna(0)\n",
    "base_origen['new_deaths'] = base_origen['new_deaths'].fillna(0)"
   ]
  },
  {
   "cell_type": "markdown",
   "id": "faced-greenhouse",
   "metadata": {},
   "source": [
    "* Ahora, comprobaremos qué tipo de datos son nuestras variables para no tener inconvenientes más adelante al realizar los gráficos."
   ]
  },
  {
   "cell_type": "code",
   "execution_count": 97,
   "id": "bacterial-record",
   "metadata": {
    "scrolled": true
   },
   "outputs": [
    {
     "data": {
      "text/plain": [
       "continent        object\n",
       "location         object\n",
       "date             object\n",
       "total_cases     float64\n",
       "new_cases       float64\n",
       "total_deaths    float64\n",
       "new_deaths      float64\n",
       "dtype: object"
      ]
     },
     "execution_count": 97,
     "metadata": {},
     "output_type": "execute_result"
    }
   ],
   "source": [
    "base_origen.dtypes"
   ]
  },
  {
   "cell_type": "markdown",
   "id": "pursuant-production",
   "metadata": {},
   "source": [
    "* Tenemos un problema con `date`, ya que es tipo object, lo cual es incorrecto dado que representa a una fecha. Lo solucionamos transformando su formato a fecha."
   ]
  },
  {
   "cell_type": "code",
   "execution_count": 98,
   "id": "satisfactory-nevada",
   "metadata": {},
   "outputs": [
    {
     "data": {
      "text/plain": [
       "continent               object\n",
       "location                object\n",
       "date            datetime64[ns]\n",
       "total_cases            float64\n",
       "new_cases              float64\n",
       "total_deaths           float64\n",
       "new_deaths             float64\n",
       "dtype: object"
      ]
     },
     "execution_count": 98,
     "metadata": {},
     "output_type": "execute_result"
    }
   ],
   "source": [
    "base_origen['date'] = pd.to_datetime(base_origen['date'])\n",
    "base_origen.dtypes"
   ]
  },
  {
   "cell_type": "code",
   "execution_count": 99,
   "id": "expected-charity",
   "metadata": {},
   "outputs": [
    {
     "data": {
      "text/html": [
       "<div>\n",
       "<style scoped>\n",
       "    .dataframe tbody tr th:only-of-type {\n",
       "        vertical-align: middle;\n",
       "    }\n",
       "\n",
       "    .dataframe tbody tr th {\n",
       "        vertical-align: top;\n",
       "    }\n",
       "\n",
       "    .dataframe thead th {\n",
       "        text-align: right;\n",
       "    }\n",
       "</style>\n",
       "<table border=\"1\" class=\"dataframe\">\n",
       "  <thead>\n",
       "    <tr style=\"text-align: right;\">\n",
       "      <th></th>\n",
       "      <th>continent</th>\n",
       "      <th>location</th>\n",
       "      <th>date</th>\n",
       "      <th>total_cases</th>\n",
       "      <th>new_cases</th>\n",
       "      <th>total_deaths</th>\n",
       "      <th>new_deaths</th>\n",
       "    </tr>\n",
       "  </thead>\n",
       "  <tbody>\n",
       "    <tr>\n",
       "      <th>0</th>\n",
       "      <td>Asia</td>\n",
       "      <td>Afghanistan</td>\n",
       "      <td>2020-02-24</td>\n",
       "      <td>1.0</td>\n",
       "      <td>1.0</td>\n",
       "      <td>0.0</td>\n",
       "      <td>0.0</td>\n",
       "    </tr>\n",
       "    <tr>\n",
       "      <th>1</th>\n",
       "      <td>Asia</td>\n",
       "      <td>Afghanistan</td>\n",
       "      <td>2020-02-25</td>\n",
       "      <td>1.0</td>\n",
       "      <td>0.0</td>\n",
       "      <td>0.0</td>\n",
       "      <td>0.0</td>\n",
       "    </tr>\n",
       "    <tr>\n",
       "      <th>2</th>\n",
       "      <td>Asia</td>\n",
       "      <td>Afghanistan</td>\n",
       "      <td>2020-02-26</td>\n",
       "      <td>1.0</td>\n",
       "      <td>0.0</td>\n",
       "      <td>0.0</td>\n",
       "      <td>0.0</td>\n",
       "    </tr>\n",
       "    <tr>\n",
       "      <th>3</th>\n",
       "      <td>Asia</td>\n",
       "      <td>Afghanistan</td>\n",
       "      <td>2020-02-27</td>\n",
       "      <td>1.0</td>\n",
       "      <td>0.0</td>\n",
       "      <td>0.0</td>\n",
       "      <td>0.0</td>\n",
       "    </tr>\n",
       "    <tr>\n",
       "      <th>4</th>\n",
       "      <td>Asia</td>\n",
       "      <td>Afghanistan</td>\n",
       "      <td>2020-02-28</td>\n",
       "      <td>1.0</td>\n",
       "      <td>0.0</td>\n",
       "      <td>0.0</td>\n",
       "      <td>0.0</td>\n",
       "    </tr>\n",
       "    <tr>\n",
       "      <th>...</th>\n",
       "      <td>...</td>\n",
       "      <td>...</td>\n",
       "      <td>...</td>\n",
       "      <td>...</td>\n",
       "      <td>...</td>\n",
       "      <td>...</td>\n",
       "      <td>...</td>\n",
       "    </tr>\n",
       "    <tr>\n",
       "      <th>98006</th>\n",
       "      <td>Africa</td>\n",
       "      <td>Zimbabwe</td>\n",
       "      <td>2021-06-20</td>\n",
       "      <td>41779.0</td>\n",
       "      <td>151.0</td>\n",
       "      <td>1672.0</td>\n",
       "      <td>6.0</td>\n",
       "    </tr>\n",
       "    <tr>\n",
       "      <th>98007</th>\n",
       "      <td>Africa</td>\n",
       "      <td>Zimbabwe</td>\n",
       "      <td>2021-06-21</td>\n",
       "      <td>42195.0</td>\n",
       "      <td>416.0</td>\n",
       "      <td>1685.0</td>\n",
       "      <td>13.0</td>\n",
       "    </tr>\n",
       "    <tr>\n",
       "      <th>98008</th>\n",
       "      <td>Africa</td>\n",
       "      <td>Zimbabwe</td>\n",
       "      <td>2021-06-22</td>\n",
       "      <td>42714.0</td>\n",
       "      <td>519.0</td>\n",
       "      <td>1691.0</td>\n",
       "      <td>6.0</td>\n",
       "    </tr>\n",
       "    <tr>\n",
       "      <th>98009</th>\n",
       "      <td>Africa</td>\n",
       "      <td>Zimbabwe</td>\n",
       "      <td>2021-06-23</td>\n",
       "      <td>43480.0</td>\n",
       "      <td>766.0</td>\n",
       "      <td>1692.0</td>\n",
       "      <td>1.0</td>\n",
       "    </tr>\n",
       "    <tr>\n",
       "      <th>98010</th>\n",
       "      <td>Africa</td>\n",
       "      <td>Zimbabwe</td>\n",
       "      <td>2021-06-24</td>\n",
       "      <td>44306.0</td>\n",
       "      <td>826.0</td>\n",
       "      <td>1709.0</td>\n",
       "      <td>17.0</td>\n",
       "    </tr>\n",
       "  </tbody>\n",
       "</table>\n",
       "<p>98011 rows × 7 columns</p>\n",
       "</div>"
      ],
      "text/plain": [
       "      continent     location       date  total_cases  new_cases  total_deaths  \\\n",
       "0          Asia  Afghanistan 2020-02-24          1.0        1.0           0.0   \n",
       "1          Asia  Afghanistan 2020-02-25          1.0        0.0           0.0   \n",
       "2          Asia  Afghanistan 2020-02-26          1.0        0.0           0.0   \n",
       "3          Asia  Afghanistan 2020-02-27          1.0        0.0           0.0   \n",
       "4          Asia  Afghanistan 2020-02-28          1.0        0.0           0.0   \n",
       "...         ...          ...        ...          ...        ...           ...   \n",
       "98006    Africa     Zimbabwe 2021-06-20      41779.0      151.0        1672.0   \n",
       "98007    Africa     Zimbabwe 2021-06-21      42195.0      416.0        1685.0   \n",
       "98008    Africa     Zimbabwe 2021-06-22      42714.0      519.0        1691.0   \n",
       "98009    Africa     Zimbabwe 2021-06-23      43480.0      766.0        1692.0   \n",
       "98010    Africa     Zimbabwe 2021-06-24      44306.0      826.0        1709.0   \n",
       "\n",
       "       new_deaths  \n",
       "0             0.0  \n",
       "1             0.0  \n",
       "2             0.0  \n",
       "3             0.0  \n",
       "4             0.0  \n",
       "...           ...  \n",
       "98006         6.0  \n",
       "98007        13.0  \n",
       "98008         6.0  \n",
       "98009         1.0  \n",
       "98010        17.0  \n",
       "\n",
       "[98011 rows x 7 columns]"
      ]
     },
     "execution_count": 99,
     "metadata": {},
     "output_type": "execute_result"
    }
   ],
   "source": [
    "base_origen"
   ]
  },
  {
   "cell_type": "code",
   "execution_count": 91,
   "id": "parallel-intersection",
   "metadata": {},
   "outputs": [],
   "source": [
    "vacunacion = pd.read_csv('covid-vaccination.csv')"
   ]
  },
  {
   "cell_type": "code",
   "execution_count": 100,
   "id": "chinese-cornell",
   "metadata": {},
   "outputs": [],
   "source": [
    "vacunacion = vacunacion.loc[:,['continent', 'location', 'date', 'total_vaccinations', \n",
    "                                 'people_vaccinated', 'people_fully_vaccinated']]"
   ]
  },
  {
   "cell_type": "code",
   "execution_count": 101,
   "id": "powered-acrobat",
   "metadata": {},
   "outputs": [
    {
     "data": {
      "text/html": [
       "<div>\n",
       "<style scoped>\n",
       "    .dataframe tbody tr th:only-of-type {\n",
       "        vertical-align: middle;\n",
       "    }\n",
       "\n",
       "    .dataframe tbody tr th {\n",
       "        vertical-align: top;\n",
       "    }\n",
       "\n",
       "    .dataframe thead th {\n",
       "        text-align: right;\n",
       "    }\n",
       "</style>\n",
       "<table border=\"1\" class=\"dataframe\">\n",
       "  <thead>\n",
       "    <tr style=\"text-align: right;\">\n",
       "      <th></th>\n",
       "      <th>continent</th>\n",
       "      <th>location</th>\n",
       "      <th>date</th>\n",
       "      <th>total_vaccinations</th>\n",
       "      <th>people_vaccinated</th>\n",
       "      <th>people_fully_vaccinated</th>\n",
       "    </tr>\n",
       "  </thead>\n",
       "  <tbody>\n",
       "    <tr>\n",
       "      <th>0</th>\n",
       "      <td>Asia</td>\n",
       "      <td>Afghanistan</td>\n",
       "      <td>2020-02-24</td>\n",
       "      <td>NaN</td>\n",
       "      <td>NaN</td>\n",
       "      <td>NaN</td>\n",
       "    </tr>\n",
       "    <tr>\n",
       "      <th>1</th>\n",
       "      <td>Asia</td>\n",
       "      <td>Afghanistan</td>\n",
       "      <td>2020-02-25</td>\n",
       "      <td>NaN</td>\n",
       "      <td>NaN</td>\n",
       "      <td>NaN</td>\n",
       "    </tr>\n",
       "    <tr>\n",
       "      <th>2</th>\n",
       "      <td>Asia</td>\n",
       "      <td>Afghanistan</td>\n",
       "      <td>2020-02-26</td>\n",
       "      <td>NaN</td>\n",
       "      <td>NaN</td>\n",
       "      <td>NaN</td>\n",
       "    </tr>\n",
       "    <tr>\n",
       "      <th>3</th>\n",
       "      <td>Asia</td>\n",
       "      <td>Afghanistan</td>\n",
       "      <td>2020-02-27</td>\n",
       "      <td>NaN</td>\n",
       "      <td>NaN</td>\n",
       "      <td>NaN</td>\n",
       "    </tr>\n",
       "    <tr>\n",
       "      <th>4</th>\n",
       "      <td>Asia</td>\n",
       "      <td>Afghanistan</td>\n",
       "      <td>2020-02-28</td>\n",
       "      <td>NaN</td>\n",
       "      <td>NaN</td>\n",
       "      <td>NaN</td>\n",
       "    </tr>\n",
       "    <tr>\n",
       "      <th>...</th>\n",
       "      <td>...</td>\n",
       "      <td>...</td>\n",
       "      <td>...</td>\n",
       "      <td>...</td>\n",
       "      <td>...</td>\n",
       "      <td>...</td>\n",
       "    </tr>\n",
       "    <tr>\n",
       "      <th>98206</th>\n",
       "      <td>Africa</td>\n",
       "      <td>Zimbabwe</td>\n",
       "      <td>2021-06-21</td>\n",
       "      <td>1140852.0</td>\n",
       "      <td>704001.0</td>\n",
       "      <td>436851.0</td>\n",
       "    </tr>\n",
       "    <tr>\n",
       "      <th>98207</th>\n",
       "      <td>Africa</td>\n",
       "      <td>Zimbabwe</td>\n",
       "      <td>2021-06-22</td>\n",
       "      <td>1146378.0</td>\n",
       "      <td>706158.0</td>\n",
       "      <td>440220.0</td>\n",
       "    </tr>\n",
       "    <tr>\n",
       "      <th>98208</th>\n",
       "      <td>Africa</td>\n",
       "      <td>Zimbabwe</td>\n",
       "      <td>2021-06-23</td>\n",
       "      <td>1166849.0</td>\n",
       "      <td>715056.0</td>\n",
       "      <td>451793.0</td>\n",
       "    </tr>\n",
       "    <tr>\n",
       "      <th>98209</th>\n",
       "      <td>Africa</td>\n",
       "      <td>Zimbabwe</td>\n",
       "      <td>2021-06-24</td>\n",
       "      <td>NaN</td>\n",
       "      <td>NaN</td>\n",
       "      <td>NaN</td>\n",
       "    </tr>\n",
       "    <tr>\n",
       "      <th>98210</th>\n",
       "      <td>Africa</td>\n",
       "      <td>Zimbabwe</td>\n",
       "      <td>2021-06-25</td>\n",
       "      <td>NaN</td>\n",
       "      <td>NaN</td>\n",
       "      <td>NaN</td>\n",
       "    </tr>\n",
       "  </tbody>\n",
       "</table>\n",
       "<p>98211 rows × 6 columns</p>\n",
       "</div>"
      ],
      "text/plain": [
       "      continent     location        date  total_vaccinations  \\\n",
       "0          Asia  Afghanistan  2020-02-24                 NaN   \n",
       "1          Asia  Afghanistan  2020-02-25                 NaN   \n",
       "2          Asia  Afghanistan  2020-02-26                 NaN   \n",
       "3          Asia  Afghanistan  2020-02-27                 NaN   \n",
       "4          Asia  Afghanistan  2020-02-28                 NaN   \n",
       "...         ...          ...         ...                 ...   \n",
       "98206    Africa     Zimbabwe  2021-06-21           1140852.0   \n",
       "98207    Africa     Zimbabwe  2021-06-22           1146378.0   \n",
       "98208    Africa     Zimbabwe  2021-06-23           1166849.0   \n",
       "98209    Africa     Zimbabwe  2021-06-24                 NaN   \n",
       "98210    Africa     Zimbabwe  2021-06-25                 NaN   \n",
       "\n",
       "       people_vaccinated  people_fully_vaccinated  \n",
       "0                    NaN                      NaN  \n",
       "1                    NaN                      NaN  \n",
       "2                    NaN                      NaN  \n",
       "3                    NaN                      NaN  \n",
       "4                    NaN                      NaN  \n",
       "...                  ...                      ...  \n",
       "98206           704001.0                 436851.0  \n",
       "98207           706158.0                 440220.0  \n",
       "98208           715056.0                 451793.0  \n",
       "98209                NaN                      NaN  \n",
       "98210                NaN                      NaN  \n",
       "\n",
       "[98211 rows x 6 columns]"
      ]
     },
     "execution_count": 101,
     "metadata": {},
     "output_type": "execute_result"
    }
   ],
   "source": [
    "vacunacion"
   ]
  },
  {
   "cell_type": "code",
   "execution_count": 115,
   "id": "extra-treaty",
   "metadata": {},
   "outputs": [],
   "source": [
    "df = vacunacion[vacunacion['date']=='2021-06-24']"
   ]
  },
  {
   "cell_type": "code",
   "execution_count": 121,
   "id": "married-evidence",
   "metadata": {},
   "outputs": [
    {
     "data": {
      "text/html": [
       "<div>\n",
       "<style scoped>\n",
       "    .dataframe tbody tr th:only-of-type {\n",
       "        vertical-align: middle;\n",
       "    }\n",
       "\n",
       "    .dataframe tbody tr th {\n",
       "        vertical-align: top;\n",
       "    }\n",
       "\n",
       "    .dataframe thead th {\n",
       "        text-align: right;\n",
       "    }\n",
       "</style>\n",
       "<table border=\"1\" class=\"dataframe\">\n",
       "  <thead>\n",
       "    <tr style=\"text-align: right;\">\n",
       "      <th></th>\n",
       "      <th>continent</th>\n",
       "      <th>location</th>\n",
       "      <th>date</th>\n",
       "      <th>total_vaccinations</th>\n",
       "      <th>people_vaccinated</th>\n",
       "      <th>people_fully_vaccinated</th>\n",
       "    </tr>\n",
       "  </thead>\n",
       "  <tbody>\n",
       "    <tr>\n",
       "      <th>486</th>\n",
       "      <td>Asia</td>\n",
       "      <td>Afghanistan</td>\n",
       "      <td>2021-06-24</td>\n",
       "      <td>NaN</td>\n",
       "      <td>NaN</td>\n",
       "      <td>NaN</td>\n",
       "    </tr>\n",
       "    <tr>\n",
       "      <th>985</th>\n",
       "      <td>NaN</td>\n",
       "      <td>Africa</td>\n",
       "      <td>2021-06-24</td>\n",
       "      <td>48436411.00</td>\n",
       "      <td>34245221.00</td>\n",
       "      <td>14541298.00</td>\n",
       "    </tr>\n",
       "    <tr>\n",
       "      <th>1472</th>\n",
       "      <td>Europe</td>\n",
       "      <td>Albania</td>\n",
       "      <td>2021-06-24</td>\n",
       "      <td>922886.00</td>\n",
       "      <td>537018.00</td>\n",
       "      <td>385868.00</td>\n",
       "    </tr>\n",
       "    <tr>\n",
       "      <th>1959</th>\n",
       "      <td>Africa</td>\n",
       "      <td>Algeria</td>\n",
       "      <td>2021-06-24</td>\n",
       "      <td>NaN</td>\n",
       "      <td>NaN</td>\n",
       "      <td>NaN</td>\n",
       "    </tr>\n",
       "    <tr>\n",
       "      <th>2440</th>\n",
       "      <td>Europe</td>\n",
       "      <td>Andorra</td>\n",
       "      <td>2021-06-24</td>\n",
       "      <td>NaN</td>\n",
       "      <td>NaN</td>\n",
       "      <td>NaN</td>\n",
       "    </tr>\n",
       "    <tr>\n",
       "      <th>...</th>\n",
       "      <td>...</td>\n",
       "      <td>...</td>\n",
       "      <td>...</td>\n",
       "      <td>...</td>\n",
       "      <td>...</td>\n",
       "      <td>...</td>\n",
       "    </tr>\n",
       "    <tr>\n",
       "      <th>96227</th>\n",
       "      <td>Asia</td>\n",
       "      <td>Vietnam</td>\n",
       "      <td>2021-06-24</td>\n",
       "      <td>2920248.00</td>\n",
       "      <td>2777127.00</td>\n",
       "      <td>143121.00</td>\n",
       "    </tr>\n",
       "    <tr>\n",
       "      <th>96839</th>\n",
       "      <td>NaN</td>\n",
       "      <td>World</td>\n",
       "      <td>2021-06-24</td>\n",
       "      <td>2838527301.00</td>\n",
       "      <td>1758545333.00</td>\n",
       "      <td>805726662.00</td>\n",
       "    </tr>\n",
       "    <tr>\n",
       "      <th>97281</th>\n",
       "      <td>Asia</td>\n",
       "      <td>Yemen</td>\n",
       "      <td>2021-06-24</td>\n",
       "      <td>NaN</td>\n",
       "      <td>NaN</td>\n",
       "      <td>NaN</td>\n",
       "    </tr>\n",
       "    <tr>\n",
       "      <th>97746</th>\n",
       "      <td>Africa</td>\n",
       "      <td>Zambia</td>\n",
       "      <td>2021-06-24</td>\n",
       "      <td>149002.00</td>\n",
       "      <td>142089.00</td>\n",
       "      <td>6913.00</td>\n",
       "    </tr>\n",
       "    <tr>\n",
       "      <th>98209</th>\n",
       "      <td>Africa</td>\n",
       "      <td>Zimbabwe</td>\n",
       "      <td>2021-06-24</td>\n",
       "      <td>NaN</td>\n",
       "      <td>NaN</td>\n",
       "      <td>NaN</td>\n",
       "    </tr>\n",
       "  </tbody>\n",
       "</table>\n",
       "<p>210 rows × 6 columns</p>\n",
       "</div>"
      ],
      "text/plain": [
       "      continent     location        date  total_vaccinations  \\\n",
       "486        Asia  Afghanistan  2021-06-24                 NaN   \n",
       "985         NaN       Africa  2021-06-24         48436411.00   \n",
       "1472     Europe      Albania  2021-06-24           922886.00   \n",
       "1959     Africa      Algeria  2021-06-24                 NaN   \n",
       "2440     Europe      Andorra  2021-06-24                 NaN   \n",
       "...         ...          ...         ...                 ...   \n",
       "96227      Asia      Vietnam  2021-06-24          2920248.00   \n",
       "96839       NaN        World  2021-06-24       2838527301.00   \n",
       "97281      Asia        Yemen  2021-06-24                 NaN   \n",
       "97746    Africa       Zambia  2021-06-24           149002.00   \n",
       "98209    Africa     Zimbabwe  2021-06-24                 NaN   \n",
       "\n",
       "       people_vaccinated  people_fully_vaccinated  \n",
       "486                  NaN                      NaN  \n",
       "985          34245221.00              14541298.00  \n",
       "1472           537018.00                385868.00  \n",
       "1959                 NaN                      NaN  \n",
       "2440                 NaN                      NaN  \n",
       "...                  ...                      ...  \n",
       "96227         2777127.00                143121.00  \n",
       "96839      1758545333.00             805726662.00  \n",
       "97281                NaN                      NaN  \n",
       "97746          142089.00                  6913.00  \n",
       "98209                NaN                      NaN  \n",
       "\n",
       "[210 rows x 6 columns]"
      ]
     },
     "execution_count": 121,
     "metadata": {},
     "output_type": "execute_result"
    }
   ],
   "source": [
    "df"
   ]
  },
  {
   "cell_type": "code",
   "execution_count": 122,
   "id": "cultural-clinton",
   "metadata": {},
   "outputs": [
    {
     "data": {
      "text/html": [
       "<div>\n",
       "<style scoped>\n",
       "    .dataframe tbody tr th:only-of-type {\n",
       "        vertical-align: middle;\n",
       "    }\n",
       "\n",
       "    .dataframe tbody tr th {\n",
       "        vertical-align: top;\n",
       "    }\n",
       "\n",
       "    .dataframe thead th {\n",
       "        text-align: right;\n",
       "    }\n",
       "</style>\n",
       "<table border=\"1\" class=\"dataframe\">\n",
       "  <thead>\n",
       "    <tr style=\"text-align: right;\">\n",
       "      <th></th>\n",
       "      <th>total_vaccinations</th>\n",
       "      <th>people_vaccinated</th>\n",
       "      <th>people_fully_vaccinated</th>\n",
       "    </tr>\n",
       "    <tr>\n",
       "      <th>continent</th>\n",
       "      <th></th>\n",
       "      <th></th>\n",
       "      <th></th>\n",
       "    </tr>\n",
       "  </thead>\n",
       "  <tbody>\n",
       "    <tr>\n",
       "      <th>Africa</th>\n",
       "      <td>31370075.00</td>\n",
       "      <td>18358316.00</td>\n",
       "      <td>11430192.00</td>\n",
       "    </tr>\n",
       "    <tr>\n",
       "      <th>Asia</th>\n",
       "      <td>1647296126.00</td>\n",
       "      <td>380180929.00</td>\n",
       "      <td>115730003.00</td>\n",
       "    </tr>\n",
       "    <tr>\n",
       "      <th>Europe</th>\n",
       "      <td>228983411.00</td>\n",
       "      <td>147854328.00</td>\n",
       "      <td>95618893.00</td>\n",
       "    </tr>\n",
       "    <tr>\n",
       "      <th>North America</th>\n",
       "      <td>357671095.00</td>\n",
       "      <td>205709521.00</td>\n",
       "      <td>160858050.00</td>\n",
       "    </tr>\n",
       "    <tr>\n",
       "      <th>Oceania</th>\n",
       "      <td>6999198.00</td>\n",
       "      <td>5886916.00</td>\n",
       "      <td>1112282.00</td>\n",
       "    </tr>\n",
       "    <tr>\n",
       "      <th>South America</th>\n",
       "      <td>112023400.00</td>\n",
       "      <td>83465191.00</td>\n",
       "      <td>28558209.00</td>\n",
       "    </tr>\n",
       "  </tbody>\n",
       "</table>\n",
       "</div>"
      ],
      "text/plain": [
       "               total_vaccinations  people_vaccinated  people_fully_vaccinated\n",
       "continent                                                                    \n",
       "Africa                31370075.00        18358316.00              11430192.00\n",
       "Asia                1647296126.00       380180929.00             115730003.00\n",
       "Europe               228983411.00       147854328.00              95618893.00\n",
       "North America        357671095.00       205709521.00             160858050.00\n",
       "Oceania                6999198.00         5886916.00               1112282.00\n",
       "South America        112023400.00        83465191.00              28558209.00"
      ]
     },
     "execution_count": 122,
     "metadata": {},
     "output_type": "execute_result"
    }
   ],
   "source": [
    "df.groupby(by = ['continent']).sum()"
   ]
  },
  {
   "cell_type": "code",
   "execution_count": 119,
   "id": "excellent-specification",
   "metadata": {},
   "outputs": [],
   "source": [
    "pd.options.display.float_format = '{:.2f}'.format"
   ]
  },
  {
   "cell_type": "code",
   "execution_count": null,
   "id": "respective-board",
   "metadata": {},
   "outputs": [],
   "source": []
  }
 ],
 "metadata": {
  "celltoolbar": "Raw Cell Format",
  "kernelspec": {
   "display_name": "Python 3",
   "language": "python",
   "name": "python3"
  },
  "language_info": {
   "codemirror_mode": {
    "name": "ipython",
    "version": 3
   },
   "file_extension": ".py",
   "mimetype": "text/x-python",
   "name": "python",
   "nbconvert_exporter": "python",
   "pygments_lexer": "ipython3",
   "version": "3.9.1"
  }
 },
 "nbformat": 4,
 "nbformat_minor": 5
}
